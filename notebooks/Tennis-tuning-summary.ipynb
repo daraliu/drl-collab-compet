{
 "cells": [
  {
   "cell_type": "code",
   "execution_count": 1,
   "metadata": {},
   "outputs": [
    {
     "name": "stderr",
     "output_type": "stream",
     "text": [
      "\n",
      "Bad key \"text.kerning_factor\" on line 4 in\n",
      "/home/hm/anaconda3/envs/drlnd/lib/python3.6/site-packages/matplotlib/mpl-data/stylelib/_classic_test_patch.mplstyle.\n",
      "You probably need to get an updated matplotlibrc file from\n",
      "http://github.com/matplotlib/matplotlib/blob/master/matplotlibrc.template\n",
      "or from the matplotlib source distribution\n"
     ]
    }
   ],
   "source": [
    "%reload_ext autoreload\n",
    "%autoreload 2\n",
    "%matplotlib inline"
   ]
  },
  {
   "cell_type": "code",
   "execution_count": 26,
   "metadata": {},
   "outputs": [],
   "source": [
    "import json\n",
    "import pathlib\n",
    "import collections\n",
    "import itertools\n",
    "\n",
    "import pandas as pd\n",
    "import plotnine as p9\n",
    "\n",
    "from drl_cc import scores_util as su\n",
    "from drl_cc import path_util as pu\n",
    "from drl_cc import tennis"
   ]
  },
  {
   "cell_type": "code",
   "execution_count": 3,
   "metadata": {},
   "outputs": [],
   "source": [
    "tuning_results_dir = pathlib.Path('../training_output/tuning_ddpg')"
   ]
  },
  {
   "cell_type": "code",
   "execution_count": 4,
   "metadata": {},
   "outputs": [],
   "source": [
    "resources_dir = pathlib.Path(\"../training_output/tuning_results\")\n",
    "resources_dir.mkdir(exist_ok=True, parents=True)"
   ]
  },
  {
   "cell_type": "code",
   "execution_count": 5,
   "metadata": {},
   "outputs": [],
   "source": [
    "expected_filenames = {\n",
    "    'metadata.json', \n",
    "    'training_params.json',  \n",
    "    'weights_critic.pth',\n",
    "    'scores.csv',     \n",
    "    'weights_actor.pth'\n",
    "}"
   ]
  },
  {
   "cell_type": "code",
   "execution_count": 6,
   "metadata": {},
   "outputs": [
    {
     "data": {
      "text/plain": [
       "[PosixPath('../training_output/tuning_ddpg/62c5680b-5abd-405b-aed2-3d8e49659778/001'),\n",
       " PosixPath('../training_output/tuning_ddpg/62c5680b-5abd-405b-aed2-3d8e49659778/002'),\n",
       " PosixPath('../training_output/tuning_ddpg/172d722d-adb4-4526-b102-464617e3b43d/001'),\n",
       " PosixPath('../training_output/tuning_ddpg/172d722d-adb4-4526-b102-464617e3b43d/002')]"
      ]
     },
     "execution_count": 6,
     "metadata": {},
     "output_type": "execute_result"
    }
   ],
   "source": [
    "agent_dirs = [\n",
    "    d for d in tuning_results_dir.glob(\"**/**\") \n",
    "    if set([p.name for p in d.glob(\"*\")]) == expected_filenames \n",
    "]\n",
    "agent_dirs"
   ]
  },
  {
   "cell_type": "code",
   "execution_count": 7,
   "metadata": {},
   "outputs": [],
   "source": [
    "agent_results = []\n",
    "for i, p in enumerate(agent_dirs):\n",
    "    with open(p.joinpath('training_params.json')) as f:\n",
    "        training_params = json.load(f)\n",
    "    df_scores = pd.read_csv(p.joinpath('scores.csv'), index_col=None)\n",
    "    df_scores['agent_id'] = i\n",
    "    r = (training_params, df_scores)\n",
    "    agent_results.append(r)"
   ]
  },
  {
   "cell_type": "code",
   "execution_count": 8,
   "metadata": {},
   "outputs": [
    {
     "data": {
      "text/html": [
       "<div>\n",
       "<style scoped>\n",
       "    .dataframe tbody tr th:only-of-type {\n",
       "        vertical-align: middle;\n",
       "    }\n",
       "\n",
       "    .dataframe tbody tr th {\n",
       "        vertical-align: top;\n",
       "    }\n",
       "\n",
       "    .dataframe thead th {\n",
       "        text-align: right;\n",
       "    }\n",
       "</style>\n",
       "<table border=\"1\" class=\"dataframe\">\n",
       "  <thead>\n",
       "    <tr style=\"text-align: right;\">\n",
       "      <th></th>\n",
       "      <th>episode</th>\n",
       "      <th>score</th>\n",
       "      <th>score_avg100</th>\n",
       "      <th>time_steps</th>\n",
       "      <th>time_ep</th>\n",
       "      <th>time_total</th>\n",
       "      <th>agent_id</th>\n",
       "    </tr>\n",
       "  </thead>\n",
       "  <tbody>\n",
       "    <tr>\n",
       "      <th>0</th>\n",
       "      <td>0</td>\n",
       "      <td>0.00</td>\n",
       "      <td>0.0000</td>\n",
       "      <td>15</td>\n",
       "      <td>0.078103</td>\n",
       "      <td>0.078104</td>\n",
       "      <td>0</td>\n",
       "    </tr>\n",
       "    <tr>\n",
       "      <th>0</th>\n",
       "      <td>0</td>\n",
       "      <td>0.00</td>\n",
       "      <td>0.0000</td>\n",
       "      <td>13</td>\n",
       "      <td>0.045879</td>\n",
       "      <td>0.045880</td>\n",
       "      <td>1</td>\n",
       "    </tr>\n",
       "    <tr>\n",
       "      <th>0</th>\n",
       "      <td>0</td>\n",
       "      <td>0.00</td>\n",
       "      <td>0.0000</td>\n",
       "      <td>14</td>\n",
       "      <td>0.047544</td>\n",
       "      <td>0.047545</td>\n",
       "      <td>2</td>\n",
       "    </tr>\n",
       "    <tr>\n",
       "      <th>0</th>\n",
       "      <td>0</td>\n",
       "      <td>0.00</td>\n",
       "      <td>0.0000</td>\n",
       "      <td>14</td>\n",
       "      <td>0.053600</td>\n",
       "      <td>0.053602</td>\n",
       "      <td>3</td>\n",
       "    </tr>\n",
       "    <tr>\n",
       "      <th>1</th>\n",
       "      <td>1</td>\n",
       "      <td>0.09</td>\n",
       "      <td>0.0450</td>\n",
       "      <td>30</td>\n",
       "      <td>0.229347</td>\n",
       "      <td>0.308337</td>\n",
       "      <td>0</td>\n",
       "    </tr>\n",
       "    <tr>\n",
       "      <th>...</th>\n",
       "      <td>...</td>\n",
       "      <td>...</td>\n",
       "      <td>...</td>\n",
       "      <td>...</td>\n",
       "      <td>...</td>\n",
       "      <td>...</td>\n",
       "      <td>...</td>\n",
       "    </tr>\n",
       "    <tr>\n",
       "      <th>1022</th>\n",
       "      <td>1022</td>\n",
       "      <td>2.60</td>\n",
       "      <td>0.4994</td>\n",
       "      <td>1001</td>\n",
       "      <td>114.711205</td>\n",
       "      <td>7739.681192</td>\n",
       "      <td>3</td>\n",
       "    </tr>\n",
       "    <tr>\n",
       "      <th>1023</th>\n",
       "      <td>1023</td>\n",
       "      <td>0.00</td>\n",
       "      <td>0.4854</td>\n",
       "      <td>3</td>\n",
       "      <td>0.246317</td>\n",
       "      <td>7739.928450</td>\n",
       "      <td>3</td>\n",
       "    </tr>\n",
       "    <tr>\n",
       "      <th>1024</th>\n",
       "      <td>1024</td>\n",
       "      <td>0.20</td>\n",
       "      <td>0.4864</td>\n",
       "      <td>80</td>\n",
       "      <td>9.409130</td>\n",
       "      <td>7749.338529</td>\n",
       "      <td>3</td>\n",
       "    </tr>\n",
       "    <tr>\n",
       "      <th>1025</th>\n",
       "      <td>1025</td>\n",
       "      <td>1.49</td>\n",
       "      <td>0.4973</td>\n",
       "      <td>558</td>\n",
       "      <td>62.316707</td>\n",
       "      <td>7811.655958</td>\n",
       "      <td>3</td>\n",
       "    </tr>\n",
       "    <tr>\n",
       "      <th>1026</th>\n",
       "      <td>1026</td>\n",
       "      <td>0.70</td>\n",
       "      <td>0.5043</td>\n",
       "      <td>257</td>\n",
       "      <td>29.658488</td>\n",
       "      <td>7841.315374</td>\n",
       "      <td>3</td>\n",
       "    </tr>\n",
       "  </tbody>\n",
       "</table>\n",
       "<p>10753 rows × 7 columns</p>\n",
       "</div>"
      ],
      "text/plain": [
       "      episode  score  score_avg100  time_steps     time_ep   time_total  \\\n",
       "0           0   0.00        0.0000          15    0.078103     0.078104   \n",
       "0           0   0.00        0.0000          13    0.045879     0.045880   \n",
       "0           0   0.00        0.0000          14    0.047544     0.047545   \n",
       "0           0   0.00        0.0000          14    0.053600     0.053602   \n",
       "1           1   0.09        0.0450          30    0.229347     0.308337   \n",
       "...       ...    ...           ...         ...         ...          ...   \n",
       "1022     1022   2.60        0.4994        1001  114.711205  7739.681192   \n",
       "1023     1023   0.00        0.4854           3    0.246317  7739.928450   \n",
       "1024     1024   0.20        0.4864          80    9.409130  7749.338529   \n",
       "1025     1025   1.49        0.4973         558   62.316707  7811.655958   \n",
       "1026     1026   0.70        0.5043         257   29.658488  7841.315374   \n",
       "\n",
       "     agent_id  \n",
       "0           0  \n",
       "0           1  \n",
       "0           2  \n",
       "0           3  \n",
       "1           0  \n",
       "...       ...  \n",
       "1022        3  \n",
       "1023        3  \n",
       "1024        3  \n",
       "1025        3  \n",
       "1026        3  \n",
       "\n",
       "[10753 rows x 7 columns]"
      ]
     },
     "execution_count": 8,
     "metadata": {},
     "output_type": "execute_result"
    }
   ],
   "source": [
    "df_scores = pd.concat([df for _, df in agent_results])\n",
    "df_scores['agent_id'] = df_scores['agent_id'].astype(str)\n",
    "df_scores = df_scores.loc[df_scores['episode'], :]\n",
    "df_scores"
   ]
  },
  {
   "cell_type": "code",
   "execution_count": 9,
   "metadata": {},
   "outputs": [
    {
     "name": "stderr",
     "output_type": "stream",
     "text": [
      "/home/hm/anaconda3/envs/drlnd/lib/python3.6/site-packages/plotnine/utils.py:284: FutureWarning: Method .as_matrix will be removed in a future version. Use .values instead.\n",
      "  ndistinct = ids.apply(len_unique, axis=0).as_matrix()\n",
      "/home/hm/anaconda3/envs/drlnd/lib/python3.6/site-packages/pandas/core/generic.py:5191: FutureWarning: Attribute 'is_copy' is deprecated and will be removed in a future version.\n",
      "  object.__getattribute__(self, name)\n",
      "/home/hm/anaconda3/envs/drlnd/lib/python3.6/site-packages/pandas/core/generic.py:5192: FutureWarning: Attribute 'is_copy' is deprecated and will be removed in a future version.\n",
      "  return object.__setattr__(self, name, value)\n"
     ]
    },
    {
     "data": {
      "image/png": "[encoded data removed]",
      "text/plain": [
       "<matplotlib.figure.Figure at 0x7fd9f497aa20>"
      ]
     },
     "metadata": {},
     "output_type": "display_data"
    },
    {
     "data": {
      "text/plain": [
       "<ggplot: (8785880678941)>"
      ]
     },
     "execution_count": 9,
     "metadata": {},
     "output_type": "execute_result"
    }
   ],
   "source": [
    "scores_plot = (\n",
    "    p9.ggplot(data=df_scores, mapping=p9.aes(x=\"episode\", y=\"score\", group=\"agent_id\", color='agent_id')) + \n",
    "    p9.geom_line(alpha=0.2) +\n",
    "    p9.geom_line(mapping=p9.aes(x=\"episode\", y=\"score_avg100\", group=\"agent_id\", color=\"agent_id\")) +\n",
    "    p9.ggtitle(\"DDPG agent score by episode\")\n",
    ")\n",
    "scores_plot"
   ]
  },
  {
   "cell_type": "code",
   "execution_count": 10,
   "metadata": {},
   "outputs": [
    {
     "name": "stderr",
     "output_type": "stream",
     "text": [
      "/home/hm/anaconda3/envs/drlnd/lib/python3.6/site-packages/plotnine/ggplot.py:552: UserWarning: Saving 6.4 x 4.8 in image.\n",
      "  from_inches(h, units), units))\n"
     ]
    }
   ],
   "source": [
    "scores_plot.save(str(resources_dir.joinpath(\"scores_all.png\")))"
   ]
  },
  {
   "cell_type": "code",
   "execution_count": 11,
   "metadata": {},
   "outputs": [],
   "source": [
    "c = collections.Counter(itertools.chain.from_iterable(r[0].items() for r in agent_results))"
   ]
  },
  {
   "cell_type": "code",
   "execution_count": 12,
   "metadata": {},
   "outputs": [
    {
     "data": {
      "text/plain": [
       "{'n_episodes': 3000,\n",
       " 'gamma_discount_factor': 0.95,\n",
       " 'mean_score_threshold': 0.5,\n",
       " 'max_t': 1000,\n",
       " 'learning_rate_actor': 0.003,\n",
       " 'learning_rate_critic': 0.001,\n",
       " 'tau_soft_update': 0.003,\n",
       " 'l2_weight_decay': 0,\n",
       " 'has_ou_noise': True,\n",
       " 'ou_noise_mu': 0.0,\n",
       " 'ou_noise_theta': 0.15,\n",
       " 'ou_noise_sigma_start': 0.4,\n",
       " 'ou_noise_sigma_end': 0.05,\n",
       " 'ou_noise_sigma_decay': 0.9,\n",
       " 'n_random_episodes': 300,\n",
       " 'agent_seed': 11111,\n",
       " 'logging_freq': 1}"
      ]
     },
     "execution_count": 12,
     "metadata": {},
     "output_type": "execute_result"
    }
   ],
   "source": [
    "common_params = dict((k for k, v in c.items() if v == len(agent_results)))\n",
    "common_params"
   ]
  },
  {
   "cell_type": "code",
   "execution_count": 13,
   "metadata": {},
   "outputs": [
    {
     "data": {
      "text/html": [
       "<div>\n",
       "<style scoped>\n",
       "    .dataframe tbody tr th:only-of-type {\n",
       "        vertical-align: middle;\n",
       "    }\n",
       "\n",
       "    .dataframe tbody tr th {\n",
       "        vertical-align: top;\n",
       "    }\n",
       "\n",
       "    .dataframe thead th {\n",
       "        text-align: right;\n",
       "    }\n",
       "</style>\n",
       "<table border=\"1\" class=\"dataframe\">\n",
       "  <thead>\n",
       "    <tr style=\"text-align: right;\">\n",
       "      <th></th>\n",
       "      <th>parameter</th>\n",
       "      <th>value</th>\n",
       "    </tr>\n",
       "  </thead>\n",
       "  <tbody>\n",
       "    <tr>\n",
       "      <th>0</th>\n",
       "      <td>n_episodes</td>\n",
       "      <td>3000</td>\n",
       "    </tr>\n",
       "    <tr>\n",
       "      <th>1</th>\n",
       "      <td>gamma_discount_factor</td>\n",
       "      <td>0.95</td>\n",
       "    </tr>\n",
       "    <tr>\n",
       "      <th>2</th>\n",
       "      <td>mean_score_threshold</td>\n",
       "      <td>0.5</td>\n",
       "    </tr>\n",
       "    <tr>\n",
       "      <th>3</th>\n",
       "      <td>max_t</td>\n",
       "      <td>1000</td>\n",
       "    </tr>\n",
       "    <tr>\n",
       "      <th>4</th>\n",
       "      <td>learning_rate_actor</td>\n",
       "      <td>0.003</td>\n",
       "    </tr>\n",
       "    <tr>\n",
       "      <th>5</th>\n",
       "      <td>learning_rate_critic</td>\n",
       "      <td>0.001</td>\n",
       "    </tr>\n",
       "    <tr>\n",
       "      <th>6</th>\n",
       "      <td>tau_soft_update</td>\n",
       "      <td>0.003</td>\n",
       "    </tr>\n",
       "    <tr>\n",
       "      <th>7</th>\n",
       "      <td>l2_weight_decay</td>\n",
       "      <td>0</td>\n",
       "    </tr>\n",
       "    <tr>\n",
       "      <th>8</th>\n",
       "      <td>has_ou_noise</td>\n",
       "      <td>True</td>\n",
       "    </tr>\n",
       "    <tr>\n",
       "      <th>9</th>\n",
       "      <td>ou_noise_mu</td>\n",
       "      <td>0</td>\n",
       "    </tr>\n",
       "    <tr>\n",
       "      <th>10</th>\n",
       "      <td>ou_noise_theta</td>\n",
       "      <td>0.15</td>\n",
       "    </tr>\n",
       "    <tr>\n",
       "      <th>11</th>\n",
       "      <td>ou_noise_sigma_start</td>\n",
       "      <td>0.4</td>\n",
       "    </tr>\n",
       "    <tr>\n",
       "      <th>12</th>\n",
       "      <td>ou_noise_sigma_end</td>\n",
       "      <td>0.05</td>\n",
       "    </tr>\n",
       "    <tr>\n",
       "      <th>13</th>\n",
       "      <td>ou_noise_sigma_decay</td>\n",
       "      <td>0.9</td>\n",
       "    </tr>\n",
       "    <tr>\n",
       "      <th>14</th>\n",
       "      <td>n_random_episodes</td>\n",
       "      <td>300</td>\n",
       "    </tr>\n",
       "    <tr>\n",
       "      <th>15</th>\n",
       "      <td>agent_seed</td>\n",
       "      <td>11111</td>\n",
       "    </tr>\n",
       "    <tr>\n",
       "      <th>16</th>\n",
       "      <td>logging_freq</td>\n",
       "      <td>1</td>\n",
       "    </tr>\n",
       "  </tbody>\n",
       "</table>\n",
       "</div>"
      ],
      "text/plain": [
       "                parameter  value\n",
       "0              n_episodes   3000\n",
       "1   gamma_discount_factor   0.95\n",
       "2    mean_score_threshold    0.5\n",
       "3                   max_t   1000\n",
       "4     learning_rate_actor  0.003\n",
       "5    learning_rate_critic  0.001\n",
       "6         tau_soft_update  0.003\n",
       "7         l2_weight_decay      0\n",
       "8            has_ou_noise   True\n",
       "9             ou_noise_mu      0\n",
       "10         ou_noise_theta   0.15\n",
       "11   ou_noise_sigma_start    0.4\n",
       "12     ou_noise_sigma_end   0.05\n",
       "13   ou_noise_sigma_decay    0.9\n",
       "14      n_random_episodes    300\n",
       "15             agent_seed  11111\n",
       "16           logging_freq      1"
      ]
     },
     "execution_count": 13,
     "metadata": {},
     "output_type": "execute_result"
    }
   ],
   "source": [
    "df_common_params = pd.DataFrame.from_records(list(common_params.items()), columns=['parameter', 'value'])\n",
    "df_common_params"
   ]
  },
  {
   "cell_type": "code",
   "execution_count": 14,
   "metadata": {},
   "outputs": [],
   "source": [
    "df_common_params.to_csv(resources_dir.joinpath(\"common_hyperparams.csv\"), index=False)"
   ]
  },
  {
   "cell_type": "code",
   "execution_count": 15,
   "metadata": {},
   "outputs": [
    {
     "name": "stdout",
     "output_type": "stream",
     "text": [
      "| parameter             | value |\r\n",
      "| --------------------- | ----- |\r\n",
      "| n_episodes            | 3000  |\r\n",
      "| gamma_discount_factor | 0.95  |\r\n",
      "| mean_score_threshold  | 0.5   |\r\n",
      "| max_t                 | 1000  |\r\n",
      "| learning_rate_actor   | 0.003 |\r\n",
      "| learning_rate_critic  | 0.001 |\r\n",
      "| tau_soft_update       | 0.003 |\r\n",
      "| l2_weight_decay       | 0     |\r\n",
      "| has_ou_noise          | True  |\r\n",
      "| ou_noise_mu           | 0.0   |\r\n",
      "| ou_noise_theta        | 0.15  |\r\n",
      "| ou_noise_sigma_start  | 0.4   |\r\n",
      "| ou_noise_sigma_end    | 0.05  |\r\n",
      "| ou_noise_sigma_decay  | 0.9   |\r\n",
      "| n_random_episodes     | 300   |\r\n",
      "| agent_seed            | 11111 |\r\n",
      "| logging_freq          | 1     |\r\n"
     ]
    }
   ],
   "source": [
    "! csv2md {str(resources_dir.joinpath(\"common_hyperparams.csv\"))}"
   ]
  },
  {
   "cell_type": "code",
   "execution_count": 16,
   "metadata": {},
   "outputs": [
    {
     "data": {
      "text/plain": [
       "['batch_size', 'buffer_size', 'num_updates', 'update_every']"
      ]
     },
     "execution_count": 16,
     "metadata": {},
     "output_type": "execute_result"
    }
   ],
   "source": [
    "varying_param_names = sorted(set((k[0] for k, v in c.items() if v != len(agent_results) and k[0] != 'agent_seed')))\n",
    "varying_param_names"
   ]
  },
  {
   "cell_type": "code",
   "execution_count": 17,
   "metadata": {},
   "outputs": [
    {
     "data": {
      "text/html": [
       "<div>\n",
       "<style scoped>\n",
       "    .dataframe tbody tr th:only-of-type {\n",
       "        vertical-align: middle;\n",
       "    }\n",
       "\n",
       "    .dataframe tbody tr th {\n",
       "        vertical-align: top;\n",
       "    }\n",
       "\n",
       "    .dataframe thead th {\n",
       "        text-align: right;\n",
       "    }\n",
       "</style>\n",
       "<table border=\"1\" class=\"dataframe\">\n",
       "  <thead>\n",
       "    <tr style=\"text-align: right;\">\n",
       "      <th></th>\n",
       "      <th>agent_id</th>\n",
       "      <th>batch_size</th>\n",
       "      <th>buffer_size</th>\n",
       "      <th>num_updates</th>\n",
       "      <th>update_every</th>\n",
       "      <th>n_episodes_to_solve</th>\n",
       "    </tr>\n",
       "  </thead>\n",
       "  <tbody>\n",
       "    <tr>\n",
       "      <th>0</th>\n",
       "      <td>0</td>\n",
       "      <td>128</td>\n",
       "      <td>100000</td>\n",
       "      <td>5</td>\n",
       "      <td>1</td>\n",
       "      <td>533</td>\n",
       "    </tr>\n",
       "    <tr>\n",
       "      <th>1</th>\n",
       "      <td>1</td>\n",
       "      <td>128</td>\n",
       "      <td>100000</td>\n",
       "      <td>5</td>\n",
       "      <td>1</td>\n",
       "      <td>542</td>\n",
       "    </tr>\n",
       "    <tr>\n",
       "      <th>2</th>\n",
       "      <td>2</td>\n",
       "      <td>1024</td>\n",
       "      <td>1000000</td>\n",
       "      <td>10</td>\n",
       "      <td>2</td>\n",
       "      <td>595</td>\n",
       "    </tr>\n",
       "    <tr>\n",
       "      <th>3</th>\n",
       "      <td>3</td>\n",
       "      <td>1024</td>\n",
       "      <td>1000000</td>\n",
       "      <td>10</td>\n",
       "      <td>2</td>\n",
       "      <td>927</td>\n",
       "    </tr>\n",
       "  </tbody>\n",
       "</table>\n",
       "</div>"
      ],
      "text/plain": [
       "  agent_id  batch_size  buffer_size  num_updates  update_every  \\\n",
       "0        0         128       100000            5             1   \n",
       "1        1         128       100000            5             1   \n",
       "2        2        1024      1000000           10             2   \n",
       "3        3        1024      1000000           10             2   \n",
       "\n",
       "   n_episodes_to_solve  \n",
       "0                  533  \n",
       "1                  542  \n",
       "2                  595  \n",
       "3                  927  "
      ]
     },
     "execution_count": 17,
     "metadata": {},
     "output_type": "execute_result"
    }
   ],
   "source": [
    "columns = ['agent_id'] + varying_param_names + ['n_episodes_to_solve']\n",
    "rows = [\n",
    "    tuple([str(i)] + [tp[p] for p in varying_param_names] + [df.shape[0] - 100]) \n",
    "    for i, (tp, df) in enumerate(agent_results)\n",
    "]\n",
    "df_agent_params = pd.DataFrame.from_records(rows, index=None, columns=columns)\n",
    "df_agent_params"
   ]
  },
  {
   "cell_type": "code",
   "execution_count": 18,
   "metadata": {},
   "outputs": [],
   "source": [
    "df_agent_params.to_csv(resources_dir.joinpath(\"agent_hyperparams.csv\"), index=False)"
   ]
  },
  {
   "cell_type": "code",
   "execution_count": 19,
   "metadata": {},
   "outputs": [
    {
     "name": "stdout",
     "output_type": "stream",
     "text": [
      "| agent_id | batch_size | buffer_size | num_updates | update_every | n_episodes_to_solve |\r\n",
      "| -------- | ---------- | ----------- | ----------- | ------------ | ------------------- |\r\n",
      "| 0        | 128        | 100000      | 5           | 1            | 533                 |\r\n",
      "| 1        | 128        | 100000      | 5           | 1            | 542                 |\r\n",
      "| 2        | 1024       | 1000000     | 10          | 2            | 595                 |\r\n",
      "| 3        | 1024       | 1000000     | 10          | 2            | 927                 |\r\n"
     ]
    }
   ],
   "source": [
    "! csv2md {str(resources_dir.joinpath(\"agent_hyperparams.csv\"))}"
   ]
  },
  {
   "cell_type": "code",
   "execution_count": 20,
   "metadata": {},
   "outputs": [
    {
     "name": "stdout",
     "output_type": "stream",
     "text": [
      "metadata.json  training_params.json  weights_critic.pth\r\n",
      "scores.csv     weights_actor.pth\r\n"
     ]
    }
   ],
   "source": [
    "! ls ../training_output/tuning_ddpg/62c5680b-5abd-405b-aed2-3d8e49659778/001/"
   ]
  },
  {
   "cell_type": "code",
   "execution_count": 21,
   "metadata": {},
   "outputs": [
    {
     "name": "stdout",
     "output_type": "stream",
     "text": [
      "metadata.json  training_params.json  weights_critic.pth\r\n",
      "scores.csv     weights_actor.pth\r\n"
     ]
    }
   ],
   "source": [
    "! ls ../training_output/tuning_ddpg/62c5680b-5abd-405b-aed2-3d8e49659778/001"
   ]
  },
  {
   "cell_type": "code",
   "execution_count": 22,
   "metadata": {},
   "outputs": [
    {
     "data": {
      "image/png": "[encoded data removed]",
      "text/plain": [
       "<matplotlib.figure.Figure at 0x7fd9f4a71c18>"
      ]
     },
     "metadata": {},
     "output_type": "display_data"
    },
    {
     "data": {
      "text/plain": [
       "<ggplot: (-9223363250974851696)>"
      ]
     },
     "execution_count": 22,
     "metadata": {},
     "output_type": "execute_result"
    }
   ],
   "source": [
    "df_scores = su.read_scores(pathlib.Path(\"../training_output/tuning_ddpg/62c5680b-5abd-405b-aed2-3d8e49659778/001\"))\n",
    "best_scores_plot = (\n",
    "    p9.ggplot(data=df_scores, mapping=p9.aes(x=\"episode\", y=\"score\")) + \n",
    "    p9.geom_line(alpha=0.2) +\n",
    "    p9.geom_line(mapping=p9.aes(x=\"episode\", y=\"score_avg100\")) +\n",
    "    p9.ggtitle(\"Best DDPG agent so far score and avg. per 100 episodes\")\n",
    ")\n",
    "best_scores_plot"
   ]
  },
  {
   "cell_type": "code",
   "execution_count": 23,
   "metadata": {},
   "outputs": [],
   "source": [
    "best_scores_plot.save(\"../img/best_agent_so_far.png\")"
   ]
  }
 ],
 "metadata": {
  "kernelspec": {
   "display_name": "Python 3",
   "language": "python",
   "name": "python3"
  },
  "language_info": {
   "codemirror_mode": {
    "name": "ipython",
    "version": 3
   },
   "file_extension": ".py",
   "mimetype": "text/x-python",
   "name": "python",
   "nbconvert_exporter": "python",
   "pygments_lexer": "ipython3",
   "version": "3.6.6"
  }
 },
 "nbformat": 4,
 "nbformat_minor": 4
}
